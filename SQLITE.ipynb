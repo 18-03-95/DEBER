{
  "nbformat": 4,
  "nbformat_minor": 0,
  "metadata": {
    "colab": {
      "provenance": [],
      "authorship_tag": "ABX9TyMnynEWFS/4KeW4jxzZo+HC",
      "include_colab_link": true
    },
    "kernelspec": {
      "name": "python3",
      "display_name": "Python 3"
    },
    "language_info": {
      "name": "python"
    }
  },
  "cells": [
    {
      "cell_type": "markdown",
      "metadata": {
        "id": "view-in-github",
        "colab_type": "text"
      },
      "source": [
        "<a href=\"https://colab.research.google.com/github/18-03-95/DEBER/blob/main/SQLITE.ipynb\" target=\"_parent\"><img src=\"https://colab.research.google.com/assets/colab-badge.svg\" alt=\"Open In Colab\"/></a>"
      ]
    },
    {
      "cell_type": "code",
      "execution_count": null,
      "metadata": {
        "colab": {
          "base_uri": "https://localhost:8080/"
        },
        "id": "uIQwx6kiDNpe",
        "outputId": "87a5dc71-4dc4-4dd5-d141-5aa925978ca4"
      },
      "outputs": [
        {
          "output_type": "stream",
          "name": "stdout",
          "text": [
            "Reading package lists... Done\n",
            "Building dependency tree       \n",
            "Reading state information... Done\n",
            "sqlite3 is already the newest version (3.31.1-4ubuntu0.5).\n",
            "0 upgraded, 0 newly installed, 0 to remove and 22 not upgraded.\n"
          ]
        }
      ],
      "source": [
        "# Instalar SQLite \n",
        "!apt-get install sqlite3"
      ]
    },
    {
      "cell_type": "markdown",
      "source": [],
      "metadata": {
        "id": "0XctPRlRimNs"
      }
    },
    {
      "cell_type": "code",
      "source": [
        "# Crear una conexión a la base de datos SQLite\n",
        "import sqlite3\n",
        "conn = sqlite3.connect('mydatabase.db')\n",
        "\n",
        "# Crear una tabla en la base de datos\n",
        "cursor = conn.cursor()\n",
        "cursor.execute('''CREATE TABLE users\n",
        "                (id INTEGER PRIMARY KEY, name TEXT, age INTEGER)''')\n",
        "conn.commit()\n",
        "\n",
        "# Cerrar la conexión a la base de datos\n",
        "conn.close()"
      ],
      "metadata": {
        "colab": {
          "base_uri": "https://localhost:8080/",
          "height": 237
        },
        "id": "xwKey6bOEtM5",
        "outputId": "2de0ea69-12aa-4499-9765-ed35f845ee89"
      },
      "execution_count": null,
      "outputs": [
        {
          "output_type": "error",
          "ename": "OperationalError",
          "evalue": "ignored",
          "traceback": [
            "\u001b[0;31m---------------------------------------------------------------------------\u001b[0m",
            "\u001b[0;31mOperationalError\u001b[0m                          Traceback (most recent call last)",
            "\u001b[0;32m<ipython-input-38-5a83e497d49c>\u001b[0m in \u001b[0;36m<module>\u001b[0;34m\u001b[0m\n\u001b[1;32m      5\u001b[0m \u001b[0;31m# Crear una tabla en la base de datos\u001b[0m\u001b[0;34m\u001b[0m\u001b[0;34m\u001b[0m\u001b[0;34m\u001b[0m\u001b[0m\n\u001b[1;32m      6\u001b[0m \u001b[0mcursor\u001b[0m \u001b[0;34m=\u001b[0m \u001b[0mconn\u001b[0m\u001b[0;34m.\u001b[0m\u001b[0mcursor\u001b[0m\u001b[0;34m(\u001b[0m\u001b[0;34m)\u001b[0m\u001b[0;34m\u001b[0m\u001b[0;34m\u001b[0m\u001b[0m\n\u001b[0;32m----> 7\u001b[0;31m cursor.execute('''CREATE TABLE users\n\u001b[0m\u001b[1;32m      8\u001b[0m                 (id INTEGER PRIMARY KEY, name TEXT, age INTEGER)''')\n\u001b[1;32m      9\u001b[0m \u001b[0mconn\u001b[0m\u001b[0;34m.\u001b[0m\u001b[0mcommit\u001b[0m\u001b[0;34m(\u001b[0m\u001b[0;34m)\u001b[0m\u001b[0;34m\u001b[0m\u001b[0;34m\u001b[0m\u001b[0m\n",
            "\u001b[0;31mOperationalError\u001b[0m: table users already exists"
          ]
        }
      ]
    },
    {
      "cell_type": "markdown",
      "source": [
        "CRUD"
      ],
      "metadata": {
        "id": "yrfxWcpoFScg"
      }
    },
    {
      "cell_type": "code",
      "source": [
        "# Conectar a la base de datos SQLite\n",
        "import sqlite3\n",
        "conn = sqlite3.connect('mydatabase.db')\n",
        "cursor = conn.cursor()\n",
        "\n",
        "# Definir función para crear un nuevo usuario\n",
        "def create_user(name, age):\n",
        "    cursor.execute(\"INSERT INTO users (name, age) VALUES (?, ?)\", (name, age))\n",
        "    conn.commit()\n",
        "\n",
        "# Definir función para obtener todos los usuarios\n",
        "def read_users():\n",
        "    cursor.execute(\"SELECT * FROM users\")\n",
        "    return cursor.fetchall()\n",
        "\n",
        "# Definir función para actualizar un usuario\n",
        "def update_user(id, name, age):\n",
        "    cursor.execute(\"UPDATE users SET name=?, age=? WHERE id=?\", (name, age, id))\n",
        "    conn.commit()\n",
        "\n",
        "# Definir función para eliminar un usuario\n",
        "def delete_user(id):\n",
        "    cursor.execute(\"DELETE FROM users WHERE id=?\", (id,))\n",
        "    conn.commit()"
      ],
      "metadata": {
        "id": "BjMN5mzfFUZC"
      },
      "execution_count": null,
      "outputs": []
    },
    {
      "cell_type": "markdown",
      "source": [
        "Probar"
      ],
      "metadata": {
        "id": "vz_NI9Y-Gbu-"
      }
    },
    {
      "cell_type": "markdown",
      "source": [
        "Una vez que hemos definido las funciones CRUD, podemos probarlas para verificar si funcionan correctamente:"
      ],
      "metadata": {
        "id": "d_IAGQcvGeyk"
      }
    },
    {
      "cell_type": "code",
      "source": [
        "# Crear un nuevo usuario\n",
        "create_user(\"Juan\", 25)\n",
        "\n",
        "# Obtener todos los usuarios\n",
        "users = read_users()\n",
        "print(users)\n",
        "\n",
        "# Actualizar un usuario\n",
        "update_user(1, \"Juan Perez\", 26)\n",
        "\n",
        "# Obtener todos los usuarios\n",
        "users = read_users()\n",
        "print(users)\n",
        "\n",
        "# Eliminar un usuario\n",
        "delete_user(1)\n",
        "\n",
        "# Obtener todos los usuarios\n",
        "users = read_users()\n",
        "print(users)\n",
        "# Cerrar la conexión a la base de datos\n",
        "conn.close()"
      ],
      "metadata": {
        "colab": {
          "base_uri": "https://localhost:8080/",
          "height": 358
        },
        "id": "hB6ygtEyGjkZ",
        "outputId": "097a723c-ed90-40ca-9df2-90fd49d0cd71"
      },
      "execution_count": null,
      "outputs": [
        {
          "output_type": "error",
          "ename": "ProgrammingError",
          "evalue": "ignored",
          "traceback": [
            "\u001b[0;31m---------------------------------------------------------------------------\u001b[0m",
            "\u001b[0;31mProgrammingError\u001b[0m                          Traceback (most recent call last)",
            "\u001b[0;32m<ipython-input-41-608debba4257>\u001b[0m in \u001b[0;36m<module>\u001b[0;34m\u001b[0m\n\u001b[1;32m      1\u001b[0m \u001b[0;31m# Crear un nuevo usuario\u001b[0m\u001b[0;34m\u001b[0m\u001b[0;34m\u001b[0m\u001b[0;34m\u001b[0m\u001b[0m\n\u001b[0;32m----> 2\u001b[0;31m \u001b[0mcreate_user\u001b[0m\u001b[0;34m(\u001b[0m\u001b[0;34m\"Juan\"\u001b[0m\u001b[0;34m,\u001b[0m \u001b[0;36m25\u001b[0m\u001b[0;34m)\u001b[0m\u001b[0;34m\u001b[0m\u001b[0;34m\u001b[0m\u001b[0m\n\u001b[0m\u001b[1;32m      3\u001b[0m \u001b[0;34m\u001b[0m\u001b[0m\n\u001b[1;32m      4\u001b[0m \u001b[0;31m# Obtener todos los usuarios\u001b[0m\u001b[0;34m\u001b[0m\u001b[0;34m\u001b[0m\u001b[0;34m\u001b[0m\u001b[0m\n\u001b[1;32m      5\u001b[0m \u001b[0musers\u001b[0m \u001b[0;34m=\u001b[0m \u001b[0mread_users\u001b[0m\u001b[0;34m(\u001b[0m\u001b[0;34m)\u001b[0m\u001b[0;34m\u001b[0m\u001b[0;34m\u001b[0m\u001b[0m\n",
            "\u001b[0;32m<ipython-input-39-0b06422a2194>\u001b[0m in \u001b[0;36mcreate_user\u001b[0;34m(name, age)\u001b[0m\n\u001b[1;32m      6\u001b[0m \u001b[0;31m# Definir función para crear un nuevo usuario\u001b[0m\u001b[0;34m\u001b[0m\u001b[0;34m\u001b[0m\u001b[0;34m\u001b[0m\u001b[0m\n\u001b[1;32m      7\u001b[0m \u001b[0;32mdef\u001b[0m \u001b[0mcreate_user\u001b[0m\u001b[0;34m(\u001b[0m\u001b[0mname\u001b[0m\u001b[0;34m,\u001b[0m \u001b[0mage\u001b[0m\u001b[0;34m)\u001b[0m\u001b[0;34m:\u001b[0m\u001b[0;34m\u001b[0m\u001b[0;34m\u001b[0m\u001b[0m\n\u001b[0;32m----> 8\u001b[0;31m     \u001b[0mcursor\u001b[0m\u001b[0;34m.\u001b[0m\u001b[0mexecute\u001b[0m\u001b[0;34m(\u001b[0m\u001b[0;34m\"INSERT INTO users (name, age) VALUES (?, ?)\"\u001b[0m\u001b[0;34m,\u001b[0m \u001b[0;34m(\u001b[0m\u001b[0mname\u001b[0m\u001b[0;34m,\u001b[0m \u001b[0mage\u001b[0m\u001b[0;34m)\u001b[0m\u001b[0;34m)\u001b[0m\u001b[0;34m\u001b[0m\u001b[0;34m\u001b[0m\u001b[0m\n\u001b[0m\u001b[1;32m      9\u001b[0m     \u001b[0mconn\u001b[0m\u001b[0;34m.\u001b[0m\u001b[0mcommit\u001b[0m\u001b[0;34m(\u001b[0m\u001b[0;34m)\u001b[0m\u001b[0;34m\u001b[0m\u001b[0;34m\u001b[0m\u001b[0m\n\u001b[1;32m     10\u001b[0m \u001b[0;34m\u001b[0m\u001b[0m\n",
            "\u001b[0;31mProgrammingError\u001b[0m: Cannot operate on a closed database."
          ]
        }
      ]
    },
    {
      "cell_type": "markdown",
      "source": [
        "***Ejercicio*** ***1***"
      ],
      "metadata": {
        "id": "PwkLtfxhHHg1"
      }
    },
    {
      "cell_type": "markdown",
      "source": [
        "Desarrolle un script para crear dos nuevo usuario con el nombre \"Pepe\" y la edad \"31\" y \"Juan\" y la edad 25 . Luego imprimirá todos los usuarios en la tabla users. A continuación, actualizará el usuario con el ID 2 con el nombre \"Pepe Pérez\" y la edad \"30\", e imprimirá todos los usuarios en la tabla users de nuevo. Finalmente, eliminará el usuario con el ID 2 y volverá a imprimir todos los usuarios en la tabla users."
      ],
      "metadata": {
        "id": "PMHBHTboHWAl"
      }
    },
    {
      "cell_type": "markdown",
      "source": [
        "**Crear** **JSON**"
      ],
      "metadata": {
        "id": "lLCfqJOxHZh_"
      }
    },
    {
      "cell_type": "code",
      "source": [
        "import sqlite3\n",
        "import json\n",
        "\n",
        "# Conectar a la base de datos SQLite\n",
        "conn = sqlite3.connect('mydatabase.db')\n",
        "\n",
        "# Ejecutar una consulta SQL para obtener los datos de la tabla\n",
        "cursor = conn.cursor()\n",
        "cursor.execute(\"SELECT * FROM users\")\n",
        "rows = cursor.fetchall()\n",
        "\n",
        "# Convertir los datos en un formato JSON\n",
        "data = []\n",
        "for row in rows:\n",
        "    data.append({\n",
        "        'id': row[0],\n",
        "        'name': row[1],\n",
        "        'age': row[2]\n",
        "    })\n",
        "json_data = json.dumps(data)\n",
        "\n",
        "# Guardar los datos en un archivo JSON\n",
        "with open('users.json', 'w') as f:\n",
        "    f.write(json_data)\n",
        "\n",
        "# Cerrar la conexión a la base de datos\n",
        "conn.close()"
      ],
      "metadata": {
        "id": "qxiIJRzrHtGb"
      },
      "execution_count": null,
      "outputs": []
    }
  ]
}